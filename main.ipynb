{
 "cells": [
  {
   "cell_type": "code",
   "execution_count": 1,
   "metadata": {
    "colab": {
     "base_uri": "https://localhost:8080/",
     "height": 51
    },
    "colab_type": "code",
    "id": "RiSyhkKalhmy",
    "outputId": "6ba059ed-411b-413b-d058-77a580510667"
   },
   "outputs": [
    {
     "name": "stdout",
     "output_type": "stream",
     "text": [
      "Drive already mounted at /content/gdrive; to attempt to forcibly remount, call drive.mount(\"/content/gdrive\", force_remount=True).\n",
      "/content/gdrive/My Drive/Colab Notebooks/zaGC\n"
     ]
    }
   ],
   "source": [
    "from google.colab import drive\n",
    "drive.mount('/content/gdrive')\n",
    "%cd /content/gdrive/My\\ Drive/Colab\\ Notebooks/zaGC"
   ]
  },
  {
   "cell_type": "code",
   "execution_count": 1,
   "metadata": {
    "colab": {},
    "colab_type": "code",
    "id": "Sv_NdzTjlcYP"
   },
   "outputs": [],
   "source": [
    "# PLACE DATASETS IN: data/raw/pollution,weather\n",
    "import os\n",
    "import sys\n",
    "\n",
    "import numpy as np\n",
    "import pandas as pd\n",
    "import matplotlib.pyplot as plt\n",
    "\n",
    "module_path = os.path.abspath(os.path.join(\"..\")) # os.path.abspath() returns the absolute path of path (path .. means current file path)\n",
    "if module_path not in sys.path: # sys.path is the list of all of paths where program search for packages\n",
    "    sys.path.append(module_path)\n",
    "    \n",
    "from pipeline import preprocessing, feature_engineering, model_selection\n",
    "from pipeline.common import * # import everything\n",
    "abs_path = os.getcwd()\n"
   ]
  },
  {
   "cell_type": "markdown",
   "metadata": {
    "colab_type": "text",
    "id": "6KJlWsO0lcYU"
   },
   "source": [
    "\n",
    "# PREPROCESSING THE DATA\n"
   ]
  },
  {
   "cell_type": "code",
   "execution_count": 2,
   "metadata": {
    "colab": {},
    "colab_type": "code",
    "id": "eEWDyQV9lcYV"
   },
   "outputs": [],
   "source": [
    "# create the output directory structure, where we will be saving files\n",
    "make_directory_tree([\"pollution\", \"weather\", \"combined\"], abs_path + \"/data/preprocessed\")"
   ]
  },
  {
   "cell_type": "code",
   "execution_count": 3,
   "metadata": {
    "colab": {
     "base_uri": "https://localhost:8080/",
     "height": 282
    },
    "colab_type": "code",
    "id": "XtcjSokElcYZ",
    "outputId": "db47b4aa-1238-4f34-9f21-4cb53ec16c3e",
    "scrolled": true
   },
   "outputs": [
    {
     "name": "stdout",
     "output_type": "stream",
     "text": [
      "Processing reports for centar\n",
      "Processing C:\\Users\\Kosta\\Desktop\\zaGIT/data/raw\\pollution\\pollution_report_centar.csv\n",
      "Processing reports for gazibaba\n",
      "Processing C:\\Users\\Kosta\\Desktop\\zaGIT/data/raw\\pollution\\pollution_report_gazibaba.csv\n",
      "Processing reports for karpos\n",
      "Processing C:\\Users\\Kosta\\Desktop\\zaGIT/data/raw\\pollution\\pollution_report_karpos.csv\n",
      "Processing reports for kicevo\n",
      "Processing C:\\Users\\Kosta\\Desktop\\zaGIT/data/raw\\pollution\\pollution_report_kicevo.csv\n",
      "Processing reports for kumanovo\n",
      "Processing C:\\Users\\Kosta\\Desktop\\zaGIT/data/raw\\pollution\\pollution_report_kumanovo.csv\n",
      "Processing reports for lisice\n",
      "Processing C:\\Users\\Kosta\\Desktop\\zaGIT/data/raw\\pollution\\pollution_report_lisice.csv\n",
      "Processing reports for miladinovci\n",
      "Processing C:\\Users\\Kosta\\Desktop\\zaGIT/data/raw\\pollution\\pollution_report_miladinovci.csv\n",
      "Processing reports for tetovo\n",
      "Processing C:\\Users\\Kosta\\Desktop\\zaGIT/data/raw\\pollution\\pollution_report_tetovo.csv\n"
     ]
    }
   ],
   "source": [
    "# run the preprocessing workflow for all datasets under data/raw, both pollution and weather\n",
    "# using the script at ../pipeline/preprocessing.py\n",
    "preprocessing.run(abs_path + \"/data/raw\", abs_path + \"/data/preprocessed\")"
   ]
  },
  {
   "cell_type": "markdown",
   "metadata": {
    "colab_type": "text",
    "id": "yX1poEOblcYe"
   },
   "source": [
    "\n",
    "# FEATURE SELECTION\n"
   ]
  },
  {
   "cell_type": "code",
   "execution_count": 4,
   "metadata": {
    "colab": {},
    "colab_type": "code",
    "id": "_CIi8iY9lcYf"
   },
   "outputs": [],
   "source": [
    "# make directory for saveing the files\n",
    "make_directory_tree([\"features selected\"], abs_path + \"/data\")"
   ]
  },
  {
   "cell_type": "code",
   "execution_count": 2,
   "metadata": {
    "colab": {},
    "colab_type": "code",
    "id": "TWb0Eu59lcYi"
   },
   "outputs": [
    {
     "name": "stdout",
     "output_type": "stream",
     "text": [
      "Selecting features for centar.csv\n"
     ]
    },
    {
     "name": "stderr",
     "output_type": "stream",
     "text": [
      "C:\\ProgramData\\Anaconda3\\lib\\site-packages\\pandas\\core\\indexing.py:670: SettingWithCopyWarning: \n",
      "A value is trying to be set on a copy of a slice from a DataFrame\n",
      "\n",
      "See the caveats in the documentation: https://pandas.pydata.org/pandas-docs/stable/user_guide/indexing.html#returning-a-view-versus-a-copy\n",
      "  self._setitem_with_indexer(indexer, value)\n"
     ]
    },
    {
     "name": "stdout",
     "output_type": "stream",
     "text": [
      "Selecting features for gazibaba.csv\n",
      "Selecting features for karpos.csv\n",
      "Selecting features for kicevo.csv\n",
      "Selecting features for kumanovo.csv\n",
      "Selecting features for lisice.csv\n",
      "Selecting features for miladinovci.csv\n",
      "Selecting features for tetovo.csv\n"
     ]
    }
   ],
   "source": [
    "feature_engineering.run(abs_path + \"/data/preprocessed/combined\", abs_path + \"/data/features selected\")"
   ]
  },
  {
   "cell_type": "markdown",
   "metadata": {
    "colab_type": "text",
    "id": "dik1M8NdlcYm"
   },
   "source": [
    "# MODEL SELECTION"
   ]
  },
  {
   "cell_type": "code",
   "execution_count": 2,
   "metadata": {
    "colab": {},
    "colab_type": "code",
    "id": "LdwBut37lcYt"
   },
   "outputs": [],
   "source": [
    "np.random.seed(0)\n",
    "# making the output directory for saving the files\n",
    "make_directory_tree([\"model selected\"], abs_path + \"/data\")"
   ]
  },
  {
   "cell_type": "code",
   "execution_count": 2,
   "metadata": {
    "colab": {},
    "colab_type": "code",
    "id": "VJWbN1xmlcYw"
   },
   "outputs": [
    {
     "name": "stdout",
     "output_type": "stream",
     "text": [
      "Will train a total of 24 models\n",
      "---------------\n",
      "Running pipeline for centar - Linear Regression\n",
      "Fitting pipeline on train data\n",
      "MAE: 36.820310755737154\n",
      "Fitting pipeline on train + test data\n",
      "MAE: 26.74480175422407\n",
      "Fitting pipeline on all \"all available data\"\n",
      "MAE: 9.678476758241409\n",
      "---------------\n",
      "Running pipeline for centar - Extra Trees Regressor\n",
      "Fitting pipeline on train data\n",
      "MAE: 21.02973386217683\n",
      "Fitting pipeline on train + test data\n",
      "MAE: 29.099404012335476\n",
      "Fitting pipeline on all \"all available data\"\n",
      "MAE: 19.038485711622023\n",
      "---------------\n",
      "Running pipeline for centar - XGBoost Trees Regression\n",
      "Fitting pipeline on train data\n",
      "[20:01:24] WARNING: src/objective/regression_obj.cu:152: reg:linear is now deprecated in favor of reg:squarederror.\n",
      "MAE: 21.03922161765271\n",
      "Fitting pipeline on train + test data\n",
      "[20:01:27] WARNING: src/objective/regression_obj.cu:152: reg:linear is now deprecated in favor of reg:squarederror.\n",
      "MAE: 29.17335738509631\n",
      "Fitting pipeline on all \"all available data\"\n",
      "[20:01:32] WARNING: src/objective/regression_obj.cu:152: reg:linear is now deprecated in favor of reg:squarederror.\n",
      "MAE: 16.41379753748576\n",
      "---------------\n",
      "Running pipeline for gazibaba - Linear Regression\n",
      "Fitting pipeline on train data\n",
      "MAE: 41.820416881218094\n",
      "Fitting pipeline on train + test data\n",
      "MAE: 507049352466.41595\n",
      "Fitting pipeline on all \"all available data\"\n",
      "MAE: 15.4375\n",
      "---------------\n",
      "Running pipeline for gazibaba - Extra Trees Regressor\n",
      "Fitting pipeline on train data\n",
      "MAE: 30.308133615202923\n",
      "Fitting pipeline on train + test data\n",
      "MAE: 41.244015164110195\n",
      "Fitting pipeline on all \"all available data\"\n",
      "MAE: 18.9258266497316\n",
      "---------------\n",
      "Running pipeline for gazibaba - XGBoost Trees Regression\n",
      "Fitting pipeline on train data\n",
      "[20:01:48] WARNING: src/objective/regression_obj.cu:152: reg:linear is now deprecated in favor of reg:squarederror.\n",
      "MAE: 29.220211523607098\n",
      "Fitting pipeline on train + test data\n",
      "[20:01:50] WARNING: src/objective/regression_obj.cu:152: reg:linear is now deprecated in favor of reg:squarederror.\n",
      "MAE: 44.289584367734975\n",
      "Fitting pipeline on all \"all available data\"\n",
      "[20:01:54] WARNING: src/objective/regression_obj.cu:152: reg:linear is now deprecated in favor of reg:squarederror.\n",
      "MAE: 21.23693084716797\n",
      "---------------\n",
      "Running pipeline for karpos - Linear Regression\n",
      "Fitting pipeline on train data\n",
      "MAE: 31.904421009098527\n",
      "Fitting pipeline on train + test data\n",
      "MAE: 29.060222867389406\n",
      "Fitting pipeline on all \"all available data\"\n",
      "MAE: 12.010416666666666\n",
      "---------------\n",
      "Running pipeline for karpos - Extra Trees Regressor\n",
      "Fitting pipeline on train data\n",
      "MAE: 21.714866299237887\n",
      "Fitting pipeline on train + test data\n",
      "MAE: 32.749518050871\n",
      "Fitting pipeline on all \"all available data\"\n",
      "MAE: 16.93919541996304\n",
      "---------------\n",
      "Running pipeline for karpos - XGBoost Trees Regression\n",
      "Fitting pipeline on train data\n",
      "[20:02:11] WARNING: src/objective/regression_obj.cu:152: reg:linear is now deprecated in favor of reg:squarederror.\n",
      "MAE: 21.798140827214993\n",
      "Fitting pipeline on train + test data\n",
      "[20:02:15] WARNING: src/objective/regression_obj.cu:152: reg:linear is now deprecated in favor of reg:squarederror.\n",
      "MAE: 34.14239688380217\n",
      "Fitting pipeline on all \"all available data\"\n",
      "[20:02:19] WARNING: src/objective/regression_obj.cu:152: reg:linear is now deprecated in favor of reg:squarederror.\n",
      "MAE: 13.085312684377035\n",
      "---------------\n",
      "Running pipeline for kicevo - Linear Regression\n",
      "Fitting pipeline on train data\n",
      "MAE: 106520747167415.14\n",
      "Fitting pipeline on train + test data\n",
      "MAE: 45.407983982166\n",
      "Fitting pipeline on all \"all available data\"\n",
      "MAE: 47.125\n",
      "---------------\n",
      "Running pipeline for kicevo - Extra Trees Regressor\n",
      "Fitting pipeline on train data\n",
      "MAE: 26.34247158220916\n",
      "Fitting pipeline on train + test data\n",
      "MAE: 41.68312988992903\n",
      "Fitting pipeline on all \"all available data\"\n",
      "MAE: 15.649931275174609\n",
      "---------------\n",
      "Running pipeline for kicevo - XGBoost Trees Regression\n",
      "Fitting pipeline on train data\n",
      "[20:02:37] WARNING: src/objective/regression_obj.cu:152: reg:linear is now deprecated in favor of reg:squarederror.\n",
      "MAE: 25.31102130119225\n",
      "Fitting pipeline on train + test data\n",
      "[20:02:40] WARNING: src/objective/regression_obj.cu:152: reg:linear is now deprecated in favor of reg:squarederror.\n",
      "MAE: 41.17410600647587\n",
      "Fitting pipeline on all \"all available data\"\n",
      "[20:02:44] WARNING: src/objective/regression_obj.cu:152: reg:linear is now deprecated in favor of reg:squarederror.\n",
      "MAE: 13.859480222066244\n",
      "---------------\n",
      "Running pipeline for kumanovo - Linear Regression\n",
      "Fitting pipeline on train data\n",
      "MAE: 33.95652556061836\n",
      "Fitting pipeline on train + test data\n",
      "MAE: 14783088203.972778\n",
      "Fitting pipeline on all \"all available data\"\n",
      "MAE: 13.417985613972098\n",
      "---------------\n",
      "Running pipeline for kumanovo - Extra Trees Regressor\n",
      "Fitting pipeline on train data\n",
      "MAE: 32.36115313258891\n",
      "Fitting pipeline on train + test data\n",
      "MAE: 37.6432902987189\n",
      "Fitting pipeline on all \"all available data\"\n",
      "MAE: 12.876094797911117\n",
      "---------------\n",
      "Running pipeline for kumanovo - XGBoost Trees Regression\n",
      "Fitting pipeline on train data\n",
      "[20:03:06] WARNING: src/objective/regression_obj.cu:152: reg:linear is now deprecated in favor of reg:squarederror.\n",
      "MAE: 35.06485691339078\n",
      "Fitting pipeline on train + test data\n",
      "[20:03:11] WARNING: src/objective/regression_obj.cu:152: reg:linear is now deprecated in favor of reg:squarederror.\n",
      "MAE: 39.18682614941358\n",
      "Fitting pipeline on all \"all available data\"\n",
      "[20:03:14] WARNING: src/objective/regression_obj.cu:152: reg:linear is now deprecated in favor of reg:squarederror.\n",
      "MAE: 16.6407790184021\n",
      "---------------\n",
      "Running pipeline for lisice - Linear Regression\n",
      "Fitting pipeline on train data\n",
      "MAE: 47.1798878857135\n",
      "Fitting pipeline on train + test data\n",
      "MAE: 61.27003811325734\n",
      "Fitting pipeline on all \"all available data\"\n",
      "MAE: 22.8125\n",
      "---------------\n",
      "Running pipeline for lisice - Extra Trees Regressor\n",
      "Fitting pipeline on train data\n",
      "MAE: 36.531932595872505\n",
      "Fitting pipeline on train + test data\n",
      "MAE: 48.124936174055804\n",
      "Fitting pipeline on all \"all available data\"\n",
      "MAE: 26.009785886740218\n",
      "---------------\n",
      "Running pipeline for lisice - XGBoost Trees Regression\n",
      "Fitting pipeline on train data\n",
      "[20:03:30] WARNING: src/objective/regression_obj.cu:152: reg:linear is now deprecated in favor of reg:squarederror.\n",
      "MAE: 35.980696588273666\n",
      "Fitting pipeline on train + test data\n",
      "[20:03:33] WARNING: src/objective/regression_obj.cu:152: reg:linear is now deprecated in favor of reg:squarederror.\n",
      "MAE: 51.88793088495741\n",
      "Fitting pipeline on all \"all available data\"\n",
      "[20:03:37] WARNING: src/objective/regression_obj.cu:152: reg:linear is now deprecated in favor of reg:squarederror.\n",
      "MAE: 16.857266743977863\n",
      "---------------\n",
      "Running pipeline for miladinovci - Linear Regression\n",
      "Fitting pipeline on train data\n",
      "MAE: 27.070924990242485\n",
      "Fitting pipeline on train + test data\n",
      "MAE: 26.281899099671623\n",
      "Fitting pipeline on all \"all available data\"\n",
      "MAE: 12.083333333333334\n",
      "---------------\n",
      "Running pipeline for miladinovci - Extra Trees Regressor\n",
      "Fitting pipeline on train data\n",
      "MAE: 20.518922884130756\n",
      "Fitting pipeline on train + test data\n",
      "MAE: 26.775272849294645\n",
      "Fitting pipeline on all \"all available data\"\n",
      "MAE: 15.318210038416774\n",
      "---------------\n",
      "Running pipeline for miladinovci - XGBoost Trees Regression\n",
      "Fitting pipeline on train data\n",
      "[20:03:57] WARNING: src/objective/regression_obj.cu:152: reg:linear is now deprecated in favor of reg:squarederror.\n",
      "MAE: 20.52225845196885\n",
      "Fitting pipeline on train + test data\n",
      "[20:04:00] WARNING: src/objective/regression_obj.cu:152: reg:linear is now deprecated in favor of reg:squarederror.\n",
      "MAE: 26.693847939026742\n",
      "Fitting pipeline on all \"all available data\"\n",
      "[20:04:05] WARNING: src/objective/regression_obj.cu:152: reg:linear is now deprecated in favor of reg:squarederror.\n",
      "MAE: 11.440283298492432\n",
      "---------------\n",
      "Running pipeline for tetovo - Linear Regression\n",
      "Fitting pipeline on train data\n",
      "MAE: 21419258813.176384\n",
      "Fitting pipeline on train + test data\n",
      "MAE: 35.90483444378884\n",
      "Fitting pipeline on all \"all available data\"\n",
      "MAE: 17.373697916666668\n",
      "---------------\n",
      "Running pipeline for tetovo - Extra Trees Regressor\n",
      "Fitting pipeline on train data\n",
      "MAE: 18.824581021802057\n",
      "Fitting pipeline on train + test data\n",
      "MAE: 36.63245892719446\n",
      "Fitting pipeline on all \"all available data\"\n"
     ]
    },
    {
     "name": "stdout",
     "output_type": "stream",
     "text": [
      "MAE: 23.512042417650637\n",
      "---------------\n",
      "Running pipeline for tetovo - XGBoost Trees Regression\n",
      "Fitting pipeline on train data\n",
      "[20:04:29] WARNING: src/objective/regression_obj.cu:152: reg:linear is now deprecated in favor of reg:squarederror.\n",
      "MAE: 21.185431253808495\n",
      "Fitting pipeline on train + test data\n",
      "[20:04:32] WARNING: src/objective/regression_obj.cu:152: reg:linear is now deprecated in favor of reg:squarederror.\n",
      "MAE: 36.839208147482594\n",
      "Fitting pipeline on all \"all available data\"\n",
      "[20:04:37] WARNING: src/objective/regression_obj.cu:152: reg:linear is now deprecated in favor of reg:squarederror.\n",
      "MAE: 27.35293483734131\n",
      "Done\n",
      "Saved models can be found at C:\\Users\\Kosta\\Desktop\\zaGIT/data/model selected\\models\n",
      "Plots can be found at C:\\Users\\Kosta\\Desktop\\zaGIT/data/model selected\\plots\n",
      "Submissions can be found at C:\\Users\\Kosta\\Desktop\\zaGIT/data/model selected\\submissions\n"
     ]
    },
    {
     "data": {
      "text/html": [
       "<div>\n",
       "<style scoped>\n",
       "    .dataframe tbody tr th:only-of-type {\n",
       "        vertical-align: middle;\n",
       "    }\n",
       "\n",
       "    .dataframe tbody tr th {\n",
       "        vertical-align: top;\n",
       "    }\n",
       "\n",
       "    .dataframe thead th {\n",
       "        text-align: right;\n",
       "    }\n",
       "</style>\n",
       "<table border=\"1\" class=\"dataframe\">\n",
       "  <thead>\n",
       "    <tr style=\"text-align: right;\">\n",
       "      <th></th>\n",
       "      <th>Location</th>\n",
       "      <th>Model</th>\n",
       "      <th>MAE</th>\n",
       "    </tr>\n",
       "  </thead>\n",
       "  <tbody>\n",
       "    <tr>\n",
       "      <th>0</th>\n",
       "      <td>centar</td>\n",
       "      <td>Linear Regression</td>\n",
       "      <td>9.678477</td>\n",
       "    </tr>\n",
       "    <tr>\n",
       "      <th>1</th>\n",
       "      <td>centar</td>\n",
       "      <td>Extra Trees Regressor</td>\n",
       "      <td>19.038486</td>\n",
       "    </tr>\n",
       "    <tr>\n",
       "      <th>2</th>\n",
       "      <td>centar</td>\n",
       "      <td>XGBoost Trees Regression</td>\n",
       "      <td>16.413798</td>\n",
       "    </tr>\n",
       "    <tr>\n",
       "      <th>3</th>\n",
       "      <td>gazibaba</td>\n",
       "      <td>Linear Regression</td>\n",
       "      <td>15.437500</td>\n",
       "    </tr>\n",
       "    <tr>\n",
       "      <th>4</th>\n",
       "      <td>gazibaba</td>\n",
       "      <td>Extra Trees Regressor</td>\n",
       "      <td>18.925827</td>\n",
       "    </tr>\n",
       "    <tr>\n",
       "      <th>5</th>\n",
       "      <td>gazibaba</td>\n",
       "      <td>XGBoost Trees Regression</td>\n",
       "      <td>21.236931</td>\n",
       "    </tr>\n",
       "    <tr>\n",
       "      <th>6</th>\n",
       "      <td>karpos</td>\n",
       "      <td>Linear Regression</td>\n",
       "      <td>12.010417</td>\n",
       "    </tr>\n",
       "    <tr>\n",
       "      <th>7</th>\n",
       "      <td>karpos</td>\n",
       "      <td>Extra Trees Regressor</td>\n",
       "      <td>16.939195</td>\n",
       "    </tr>\n",
       "    <tr>\n",
       "      <th>8</th>\n",
       "      <td>karpos</td>\n",
       "      <td>XGBoost Trees Regression</td>\n",
       "      <td>13.085313</td>\n",
       "    </tr>\n",
       "    <tr>\n",
       "      <th>9</th>\n",
       "      <td>kicevo</td>\n",
       "      <td>Linear Regression</td>\n",
       "      <td>47.125000</td>\n",
       "    </tr>\n",
       "    <tr>\n",
       "      <th>10</th>\n",
       "      <td>kicevo</td>\n",
       "      <td>Extra Trees Regressor</td>\n",
       "      <td>15.649931</td>\n",
       "    </tr>\n",
       "    <tr>\n",
       "      <th>11</th>\n",
       "      <td>kicevo</td>\n",
       "      <td>XGBoost Trees Regression</td>\n",
       "      <td>13.859480</td>\n",
       "    </tr>\n",
       "    <tr>\n",
       "      <th>12</th>\n",
       "      <td>kumanovo</td>\n",
       "      <td>Linear Regression</td>\n",
       "      <td>13.417986</td>\n",
       "    </tr>\n",
       "    <tr>\n",
       "      <th>13</th>\n",
       "      <td>kumanovo</td>\n",
       "      <td>Extra Trees Regressor</td>\n",
       "      <td>12.876095</td>\n",
       "    </tr>\n",
       "    <tr>\n",
       "      <th>14</th>\n",
       "      <td>kumanovo</td>\n",
       "      <td>XGBoost Trees Regression</td>\n",
       "      <td>16.640779</td>\n",
       "    </tr>\n",
       "    <tr>\n",
       "      <th>15</th>\n",
       "      <td>lisice</td>\n",
       "      <td>Linear Regression</td>\n",
       "      <td>22.812500</td>\n",
       "    </tr>\n",
       "    <tr>\n",
       "      <th>16</th>\n",
       "      <td>lisice</td>\n",
       "      <td>Extra Trees Regressor</td>\n",
       "      <td>26.009786</td>\n",
       "    </tr>\n",
       "    <tr>\n",
       "      <th>17</th>\n",
       "      <td>lisice</td>\n",
       "      <td>XGBoost Trees Regression</td>\n",
       "      <td>16.857267</td>\n",
       "    </tr>\n",
       "    <tr>\n",
       "      <th>18</th>\n",
       "      <td>miladinovci</td>\n",
       "      <td>Linear Regression</td>\n",
       "      <td>12.083333</td>\n",
       "    </tr>\n",
       "    <tr>\n",
       "      <th>19</th>\n",
       "      <td>miladinovci</td>\n",
       "      <td>Extra Trees Regressor</td>\n",
       "      <td>15.318210</td>\n",
       "    </tr>\n",
       "    <tr>\n",
       "      <th>20</th>\n",
       "      <td>miladinovci</td>\n",
       "      <td>XGBoost Trees Regression</td>\n",
       "      <td>11.440283</td>\n",
       "    </tr>\n",
       "    <tr>\n",
       "      <th>21</th>\n",
       "      <td>tetovo</td>\n",
       "      <td>Linear Regression</td>\n",
       "      <td>17.373698</td>\n",
       "    </tr>\n",
       "    <tr>\n",
       "      <th>22</th>\n",
       "      <td>tetovo</td>\n",
       "      <td>Extra Trees Regressor</td>\n",
       "      <td>23.512042</td>\n",
       "    </tr>\n",
       "    <tr>\n",
       "      <th>23</th>\n",
       "      <td>tetovo</td>\n",
       "      <td>XGBoost Trees Regression</td>\n",
       "      <td>27.352935</td>\n",
       "    </tr>\n",
       "  </tbody>\n",
       "</table>\n",
       "</div>"
      ],
      "text/plain": [
       "       Location                     Model        MAE\n",
       "0        centar         Linear Regression   9.678477\n",
       "1        centar     Extra Trees Regressor  19.038486\n",
       "2        centar  XGBoost Trees Regression  16.413798\n",
       "3      gazibaba         Linear Regression  15.437500\n",
       "4      gazibaba     Extra Trees Regressor  18.925827\n",
       "5      gazibaba  XGBoost Trees Regression  21.236931\n",
       "6        karpos         Linear Regression  12.010417\n",
       "7        karpos     Extra Trees Regressor  16.939195\n",
       "8        karpos  XGBoost Trees Regression  13.085313\n",
       "9        kicevo         Linear Regression  47.125000\n",
       "10       kicevo     Extra Trees Regressor  15.649931\n",
       "11       kicevo  XGBoost Trees Regression  13.859480\n",
       "12     kumanovo         Linear Regression  13.417986\n",
       "13     kumanovo     Extra Trees Regressor  12.876095\n",
       "14     kumanovo  XGBoost Trees Regression  16.640779\n",
       "15       lisice         Linear Regression  22.812500\n",
       "16       lisice     Extra Trees Regressor  26.009786\n",
       "17       lisice  XGBoost Trees Regression  16.857267\n",
       "18  miladinovci         Linear Regression  12.083333\n",
       "19  miladinovci     Extra Trees Regressor  15.318210\n",
       "20  miladinovci  XGBoost Trees Regression  11.440283\n",
       "21       tetovo         Linear Regression  17.373698\n",
       "22       tetovo     Extra Trees Regressor  23.512042\n",
       "23       tetovo  XGBoost Trees Regression  27.352935"
      ]
     },
     "execution_count": 2,
     "metadata": {},
     "output_type": "execute_result"
    }
   ],
   "source": [
    "# train and evaluate for different models\n",
    "model_selection.run(abs_path + \"/data/features selected\", abs_path + \"/data/model selected\")"
   ]
  },
  {
   "cell_type": "markdown",
   "metadata": {
    "colab_type": "text",
    "id": "jkfDqLdplcY0"
   },
   "source": [
    "### --------------------------------------------------------------------------------------------------------------------------------------------------------------"
   ]
  },
  {
   "cell_type": "markdown",
   "metadata": {
    "colab_type": "text",
    "id": "1DWvoP9glcY0"
   },
   "source": [
    "# *****LSTM model*****"
   ]
  },
  {
   "cell_type": "markdown",
   "metadata": {
    "colab_type": "text",
    "id": "zmnrhZKrlcY1"
   },
   "source": [
    "# FEATURE SELECTION"
   ]
  },
  {
   "cell_type": "code",
   "execution_count": 3,
   "metadata": {
    "colab": {},
    "colab_type": "code",
    "id": "JRtbCaWClcY2"
   },
   "outputs": [],
   "source": [
    "from pipeline import feature_engineering_LSTM"
   ]
  },
  {
   "cell_type": "code",
   "execution_count": 4,
   "metadata": {
    "colab": {},
    "colab_type": "code",
    "id": "xCs4xMCtlcY5"
   },
   "outputs": [
    {
     "name": "stderr",
     "output_type": "stream",
     "text": [
      "C:\\ProgramData\\Anaconda3\\lib\\site-packages\\pandas\\core\\indexing.py:670: SettingWithCopyWarning: \n",
      "A value is trying to be set on a copy of a slice from a DataFrame\n",
      "\n",
      "See the caveats in the documentation: https://pandas.pydata.org/pandas-docs/stable/user_guide/indexing.html#returning-a-view-versus-a-copy\n",
      "  self._setitem_with_indexer(indexer, value)\n"
     ]
    },
    {
     "name": "stdout",
     "output_type": "stream",
     "text": [
      "SAVED to C:\\Users\\Kosta\\Desktop\\zaGIT/data/features selected LSTM\\concatenated.csv\n"
     ]
    }
   ],
   "source": [
    "make_directory_tree([\"features selected LSTM\"],abs_path+\"/data\")\n",
    "data = feature_engineering_LSTM.run(abs_path+\"/data/preprocessed/combined\",abs_path+\"/data/features selected LSTM\")"
   ]
  },
  {
   "cell_type": "markdown",
   "metadata": {
    "colab_type": "text",
    "id": "RSLoxSt0lcY9"
   },
   "source": [
    "# MODEL SELECTION"
   ]
  },
  {
   "cell_type": "code",
   "execution_count": 5,
   "metadata": {
    "colab": {},
    "colab_type": "code",
    "id": "Ag3uKoU9lcY-"
   },
   "outputs": [
    {
     "name": "stderr",
     "output_type": "stream",
     "text": [
      "Using TensorFlow backend.\n",
      "C:\\ProgramData\\Anaconda3\\lib\\site-packages\\tensorflow\\python\\framework\\dtypes.py:526: FutureWarning: Passing (type, 1) or '1type' as a synonym of type is deprecated; in a future version of numpy, it will be understood as (type, (1,)) / '(1,)type'.\n",
      "  _np_qint8 = np.dtype([(\"qint8\", np.int8, 1)])\n",
      "C:\\ProgramData\\Anaconda3\\lib\\site-packages\\tensorflow\\python\\framework\\dtypes.py:527: FutureWarning: Passing (type, 1) or '1type' as a synonym of type is deprecated; in a future version of numpy, it will be understood as (type, (1,)) / '(1,)type'.\n",
      "  _np_quint8 = np.dtype([(\"quint8\", np.uint8, 1)])\n",
      "C:\\ProgramData\\Anaconda3\\lib\\site-packages\\tensorflow\\python\\framework\\dtypes.py:528: FutureWarning: Passing (type, 1) or '1type' as a synonym of type is deprecated; in a future version of numpy, it will be understood as (type, (1,)) / '(1,)type'.\n",
      "  _np_qint16 = np.dtype([(\"qint16\", np.int16, 1)])\n",
      "C:\\ProgramData\\Anaconda3\\lib\\site-packages\\tensorflow\\python\\framework\\dtypes.py:529: FutureWarning: Passing (type, 1) or '1type' as a synonym of type is deprecated; in a future version of numpy, it will be understood as (type, (1,)) / '(1,)type'.\n",
      "  _np_quint16 = np.dtype([(\"quint16\", np.uint16, 1)])\n",
      "C:\\ProgramData\\Anaconda3\\lib\\site-packages\\tensorflow\\python\\framework\\dtypes.py:530: FutureWarning: Passing (type, 1) or '1type' as a synonym of type is deprecated; in a future version of numpy, it will be understood as (type, (1,)) / '(1,)type'.\n",
      "  _np_qint32 = np.dtype([(\"qint32\", np.int32, 1)])\n",
      "C:\\ProgramData\\Anaconda3\\lib\\site-packages\\tensorflow\\python\\framework\\dtypes.py:535: FutureWarning: Passing (type, 1) or '1type' as a synonym of type is deprecated; in a future version of numpy, it will be understood as (type, (1,)) / '(1,)type'.\n",
      "  np_resource = np.dtype([(\"resource\", np.ubyte, 1)])\n"
     ]
    }
   ],
   "source": [
    "from pipeline import model_LSTM"
   ]
  },
  {
   "cell_type": "code",
   "execution_count": 6,
   "metadata": {
    "colab": {
     "base_uri": "https://localhost:8080/",
     "height": 1000
    },
    "colab_type": "code",
    "id": "-oSvXQcxlcZC",
    "outputId": "73772225-73ff-4042-e0c1-db9f8d9345d8"
   },
   "outputs": [
    {
     "name": "stdout",
     "output_type": "stream",
     "text": [
      "WARNING:tensorflow:From C:\\ProgramData\\Anaconda3\\lib\\site-packages\\tensorflow\\python\\ops\\resource_variable_ops.py:435: colocate_with (from tensorflow.python.framework.ops) is deprecated and will be removed in a future version.\n",
      "Instructions for updating:\n",
      "Colocations handled automatically by placer.\n",
      "-------------------------------------------\n",
      "Loading dataset\n",
      "Dataset loaded!\n",
      "-------------------------------------------\n",
      "Reshaping dataset\n",
      "New shape is: (267809, 7, 26)\n",
      "Dataset reshaped!\n",
      "-------------------------------------------\n",
      "Dropping NaN values\n",
      "Dropped 74082 NaN values from complete dataset set\n",
      "-------------------------------------------\n",
      "Schuffling dataset\n",
      "Dataset schuffled!\n",
      "-------------------------------------------\n",
      "Splitting dataset\n",
      "Train set: 125922 examples\n",
      "Test set: 48431 examples\n",
      "Evaluation set: 19373 examples\n",
      "Final evaluation set: 1 examples\n",
      "Dataset splitted!\n",
      "-------------------------------------------\n",
      "Scaling datasets\n",
      "Datasets scaled!\n",
      "\n",
      "MODEL SUMMARY:\n",
      "\n",
      "Model: \"model_1\"\n",
      "_________________________________________________________________\n",
      "Layer (type)                 Output Shape              Param #   \n",
      "=================================================================\n",
      "input_1 (InputLayer)         (None, 7, 26)             0         \n",
      "_________________________________________________________________\n",
      "lstm_1 (LSTM)                (None, 100)               50800     \n",
      "_________________________________________________________________\n",
      "dropout_1 (Dropout)          (None, 100)               0         \n",
      "_________________________________________________________________\n",
      "dense_1 (Dense)              (None, 100)               10100     \n",
      "_________________________________________________________________\n",
      "dropout_2 (Dropout)          (None, 100)               0         \n",
      "_________________________________________________________________\n",
      "dense_2 (Dense)              (None, 100)               10100     \n",
      "_________________________________________________________________\n",
      "dropout_3 (Dropout)          (None, 100)               0         \n",
      "_________________________________________________________________\n",
      "dense_3 (Dense)              (None, 1)                 101       \n",
      "=================================================================\n",
      "Total params: 71,101\n",
      "Trainable params: 71,101\n",
      "Non-trainable params: 0\n",
      "_________________________________________________________________\n",
      "None\n",
      "-------------------------------------------\n",
      "\n",
      "TRAINING HAS STARTED:\n",
      "\n",
      "WARNING:tensorflow:From C:\\ProgramData\\Anaconda3\\lib\\site-packages\\tensorflow\\python\\ops\\math_ops.py:3066: to_int32 (from tensorflow.python.ops.math_ops) is deprecated and will be removed in a future version.\n",
      "Instructions for updating:\n",
      "Use tf.cast instead.\n",
      "Train on 125922 samples, validate on 48431 samples\n",
      "Epoch 1/170\n",
      " - 17s - loss: 43.9349 - mae: 43.6760 - val_loss: 40.7448 - val_mae: 40.4757\n",
      "Epoch 2/170\n",
      " - 16s - loss: 39.1814 - mae: 38.9046 - val_loss: 47.0571 - val_mae: 46.7739\n",
      "Epoch 3/170\n",
      " - 16s - loss: 37.3825 - mae: 37.0943 - val_loss: 35.5295 - val_mae: 35.2358\n",
      "Epoch 4/170\n",
      " - 16s - loss: 36.3747 - mae: 36.0767 - val_loss: 35.2600 - val_mae: 34.9570\n",
      "Epoch 5/170\n",
      " - 16s - loss: 35.8651 - mae: 35.5554 - val_loss: 34.3848 - val_mae: 34.0698\n",
      "Epoch 6/170\n",
      " - 17s - loss: 35.1865 - mae: 34.8656 - val_loss: 34.3893 - val_mae: 34.0610\n",
      "Epoch 7/170\n",
      " - 17s - loss: 34.5573 - mae: 34.2224 - val_loss: 33.3071 - val_mae: 32.9662\n",
      "Epoch 8/170\n",
      " - 16s - loss: 33.9711 - mae: 33.6246 - val_loss: 34.0936 - val_mae: 33.7417\n",
      "Epoch 9/170\n",
      " - 17s - loss: 33.5443 - mae: 33.1880 - val_loss: 33.7373 - val_mae: 33.3769\n",
      "Epoch 10/170\n"
     ]
    },
    {
     "ename": "KeyboardInterrupt",
     "evalue": "",
     "output_type": "error",
     "traceback": [
      "\u001b[1;31m---------------------------------------------------------------------------\u001b[0m",
      "\u001b[1;31mKeyboardInterrupt\u001b[0m                         Traceback (most recent call last)",
      "\u001b[1;32m<ipython-input-6-9bedfacdb24c>\u001b[0m in \u001b[0;36m<module>\u001b[1;34m\u001b[0m\n\u001b[0;32m     12\u001b[0m                \u001b[0mepochs\u001b[0m \u001b[1;33m=\u001b[0m \u001b[1;36m170\u001b[0m\u001b[1;33m,\u001b[0m\u001b[1;33m\u001b[0m\u001b[1;33m\u001b[0m\u001b[0m\n\u001b[0;32m     13\u001b[0m                \u001b[0mbatch_size\u001b[0m \u001b[1;33m=\u001b[0m \u001b[1;36m512\u001b[0m\u001b[1;33m,\u001b[0m\u001b[1;33m\u001b[0m\u001b[1;33m\u001b[0m\u001b[0m\n\u001b[1;32m---> 14\u001b[1;33m                predict_window=12)\n\u001b[0m",
      "\u001b[1;32m~\\Desktop\\zaGIT\\pipeline\\model_LSTM.py\u001b[0m in \u001b[0;36mrun\u001b[1;34m(input_dir, output_dir, optimizer, dropout_rate, num_of_neurons_LSTM, num_of_neurons_Dense1, num_of_neurons_Dense2, num_of_neurons_Dense3, l2_constant, epochs, batch_size, predict_window, Tx)\u001b[0m\n\u001b[0;32m    304\u001b[0m     \u001b[0mprint\u001b[0m\u001b[1;33m(\u001b[0m\u001b[1;34m\"-------------------------------------------\"\u001b[0m\u001b[1;33m)\u001b[0m\u001b[1;33m\u001b[0m\u001b[1;33m\u001b[0m\u001b[0m\n\u001b[0;32m    305\u001b[0m     \u001b[0mprint\u001b[0m\u001b[1;33m(\u001b[0m\u001b[1;34m\"\\nTRAINING HAS STARTED:\\n\"\u001b[0m\u001b[1;33m)\u001b[0m\u001b[1;33m\u001b[0m\u001b[1;33m\u001b[0m\u001b[0m\n\u001b[1;32m--> 306\u001b[1;33m     \u001b[0mhistory\u001b[0m \u001b[1;33m=\u001b[0m \u001b[0mmodel\u001b[0m\u001b[1;33m.\u001b[0m\u001b[0mfit\u001b[0m\u001b[1;33m(\u001b[0m\u001b[0mX_train\u001b[0m\u001b[1;33m,\u001b[0m\u001b[0mY_train\u001b[0m\u001b[1;33m,\u001b[0m\u001b[0mepochs\u001b[0m\u001b[1;33m=\u001b[0m\u001b[0mepochs\u001b[0m\u001b[1;33m,\u001b[0m\u001b[0mbatch_size\u001b[0m\u001b[1;33m=\u001b[0m\u001b[0mbatch_size\u001b[0m\u001b[1;33m,\u001b[0m\u001b[0mvalidation_data\u001b[0m\u001b[1;33m=\u001b[0m\u001b[1;33m(\u001b[0m\u001b[0mX_test\u001b[0m\u001b[1;33m,\u001b[0m\u001b[0mY_test\u001b[0m\u001b[1;33m)\u001b[0m\u001b[1;33m,\u001b[0m\u001b[0mverbose\u001b[0m\u001b[1;33m=\u001b[0m\u001b[1;36m2\u001b[0m\u001b[1;33m,\u001b[0m\u001b[0mshuffle\u001b[0m\u001b[1;33m=\u001b[0m\u001b[1;32mTrue\u001b[0m\u001b[1;33m)\u001b[0m\u001b[1;33m\u001b[0m\u001b[1;33m\u001b[0m\u001b[0m\n\u001b[0m\u001b[0;32m    307\u001b[0m     \u001b[1;31m# plot the loss\u001b[0m\u001b[1;33m\u001b[0m\u001b[1;33m\u001b[0m\u001b[1;33m\u001b[0m\u001b[0m\n\u001b[0;32m    308\u001b[0m     \u001b[0mplotLoss\u001b[0m\u001b[1;33m(\u001b[0m\u001b[0mhistory\u001b[0m\u001b[1;33m)\u001b[0m\u001b[1;33m\u001b[0m\u001b[1;33m\u001b[0m\u001b[0m\n",
      "\u001b[1;32mC:\\ProgramData\\Anaconda3\\lib\\site-packages\\keras\\engine\\training.py\u001b[0m in \u001b[0;36mfit\u001b[1;34m(self, x, y, batch_size, epochs, verbose, callbacks, validation_split, validation_data, shuffle, class_weight, sample_weight, initial_epoch, steps_per_epoch, validation_steps, validation_freq, max_queue_size, workers, use_multiprocessing, **kwargs)\u001b[0m\n\u001b[0;32m   1237\u001b[0m                                         \u001b[0msteps_per_epoch\u001b[0m\u001b[1;33m=\u001b[0m\u001b[0msteps_per_epoch\u001b[0m\u001b[1;33m,\u001b[0m\u001b[1;33m\u001b[0m\u001b[1;33m\u001b[0m\u001b[0m\n\u001b[0;32m   1238\u001b[0m                                         \u001b[0mvalidation_steps\u001b[0m\u001b[1;33m=\u001b[0m\u001b[0mvalidation_steps\u001b[0m\u001b[1;33m,\u001b[0m\u001b[1;33m\u001b[0m\u001b[1;33m\u001b[0m\u001b[0m\n\u001b[1;32m-> 1239\u001b[1;33m                                         validation_freq=validation_freq)\n\u001b[0m\u001b[0;32m   1240\u001b[0m \u001b[1;33m\u001b[0m\u001b[0m\n\u001b[0;32m   1241\u001b[0m     def evaluate(self,\n",
      "\u001b[1;32mC:\\ProgramData\\Anaconda3\\lib\\site-packages\\keras\\engine\\training_arrays.py\u001b[0m in \u001b[0;36mfit_loop\u001b[1;34m(model, fit_function, fit_inputs, out_labels, batch_size, epochs, verbose, callbacks, val_function, val_inputs, shuffle, initial_epoch, steps_per_epoch, validation_steps, validation_freq)\u001b[0m\n\u001b[0;32m    194\u001b[0m                     \u001b[0mins_batch\u001b[0m\u001b[1;33m[\u001b[0m\u001b[0mi\u001b[0m\u001b[1;33m]\u001b[0m \u001b[1;33m=\u001b[0m \u001b[0mins_batch\u001b[0m\u001b[1;33m[\u001b[0m\u001b[0mi\u001b[0m\u001b[1;33m]\u001b[0m\u001b[1;33m.\u001b[0m\u001b[0mtoarray\u001b[0m\u001b[1;33m(\u001b[0m\u001b[1;33m)\u001b[0m\u001b[1;33m\u001b[0m\u001b[1;33m\u001b[0m\u001b[0m\n\u001b[0;32m    195\u001b[0m \u001b[1;33m\u001b[0m\u001b[0m\n\u001b[1;32m--> 196\u001b[1;33m                 \u001b[0mouts\u001b[0m \u001b[1;33m=\u001b[0m \u001b[0mfit_function\u001b[0m\u001b[1;33m(\u001b[0m\u001b[0mins_batch\u001b[0m\u001b[1;33m)\u001b[0m\u001b[1;33m\u001b[0m\u001b[1;33m\u001b[0m\u001b[0m\n\u001b[0m\u001b[0;32m    197\u001b[0m                 \u001b[0mouts\u001b[0m \u001b[1;33m=\u001b[0m \u001b[0mto_list\u001b[0m\u001b[1;33m(\u001b[0m\u001b[0mouts\u001b[0m\u001b[1;33m)\u001b[0m\u001b[1;33m\u001b[0m\u001b[1;33m\u001b[0m\u001b[0m\n\u001b[0;32m    198\u001b[0m                 \u001b[1;32mfor\u001b[0m \u001b[0ml\u001b[0m\u001b[1;33m,\u001b[0m \u001b[0mo\u001b[0m \u001b[1;32min\u001b[0m \u001b[0mzip\u001b[0m\u001b[1;33m(\u001b[0m\u001b[0mout_labels\u001b[0m\u001b[1;33m,\u001b[0m \u001b[0mouts\u001b[0m\u001b[1;33m)\u001b[0m\u001b[1;33m:\u001b[0m\u001b[1;33m\u001b[0m\u001b[1;33m\u001b[0m\u001b[0m\n",
      "\u001b[1;32mC:\\ProgramData\\Anaconda3\\lib\\site-packages\\tensorflow\\python\\keras\\backend.py\u001b[0m in \u001b[0;36m__call__\u001b[1;34m(self, inputs)\u001b[0m\n\u001b[0;32m   3074\u001b[0m \u001b[1;33m\u001b[0m\u001b[0m\n\u001b[0;32m   3075\u001b[0m     fetched = self._callable_fn(*array_vals,\n\u001b[1;32m-> 3076\u001b[1;33m                                 run_metadata=self.run_metadata)\n\u001b[0m\u001b[0;32m   3077\u001b[0m     \u001b[0mself\u001b[0m\u001b[1;33m.\u001b[0m\u001b[0m_call_fetch_callbacks\u001b[0m\u001b[1;33m(\u001b[0m\u001b[0mfetched\u001b[0m\u001b[1;33m[\u001b[0m\u001b[1;33m-\u001b[0m\u001b[0mlen\u001b[0m\u001b[1;33m(\u001b[0m\u001b[0mself\u001b[0m\u001b[1;33m.\u001b[0m\u001b[0m_fetches\u001b[0m\u001b[1;33m)\u001b[0m\u001b[1;33m:\u001b[0m\u001b[1;33m]\u001b[0m\u001b[1;33m)\u001b[0m\u001b[1;33m\u001b[0m\u001b[1;33m\u001b[0m\u001b[0m\n\u001b[0;32m   3078\u001b[0m     return nest.pack_sequence_as(self._outputs_structure,\n",
      "\u001b[1;32mC:\\ProgramData\\Anaconda3\\lib\\site-packages\\tensorflow\\python\\client\\session.py\u001b[0m in \u001b[0;36m__call__\u001b[1;34m(self, *args, **kwargs)\u001b[0m\n\u001b[0;32m   1437\u001b[0m           ret = tf_session.TF_SessionRunCallable(\n\u001b[0;32m   1438\u001b[0m               \u001b[0mself\u001b[0m\u001b[1;33m.\u001b[0m\u001b[0m_session\u001b[0m\u001b[1;33m.\u001b[0m\u001b[0m_session\u001b[0m\u001b[1;33m,\u001b[0m \u001b[0mself\u001b[0m\u001b[1;33m.\u001b[0m\u001b[0m_handle\u001b[0m\u001b[1;33m,\u001b[0m \u001b[0margs\u001b[0m\u001b[1;33m,\u001b[0m \u001b[0mstatus\u001b[0m\u001b[1;33m,\u001b[0m\u001b[1;33m\u001b[0m\u001b[1;33m\u001b[0m\u001b[0m\n\u001b[1;32m-> 1439\u001b[1;33m               run_metadata_ptr)\n\u001b[0m\u001b[0;32m   1440\u001b[0m         \u001b[1;32mif\u001b[0m \u001b[0mrun_metadata\u001b[0m\u001b[1;33m:\u001b[0m\u001b[1;33m\u001b[0m\u001b[1;33m\u001b[0m\u001b[0m\n\u001b[0;32m   1441\u001b[0m           \u001b[0mproto_data\u001b[0m \u001b[1;33m=\u001b[0m \u001b[0mtf_session\u001b[0m\u001b[1;33m.\u001b[0m\u001b[0mTF_GetBuffer\u001b[0m\u001b[1;33m(\u001b[0m\u001b[0mrun_metadata_ptr\u001b[0m\u001b[1;33m)\u001b[0m\u001b[1;33m\u001b[0m\u001b[1;33m\u001b[0m\u001b[0m\n",
      "\u001b[1;31mKeyboardInterrupt\u001b[0m: "
     ]
    }
   ],
   "source": [
    "from keras.optimizers import Adam,SGD\n",
    "make_directory_tree([\"model selected LSTM\"],abs_path+\"/data\")\n",
    "model_LSTM.run(input_dir=abs_path+\"/data/features selected LSTM\",\n",
    "               output_dir=abs_path+\"/data/model selected LSTM\",\n",
    "               optimizer=SGD(learning_rate = 0.03,momentum = 0.1),\n",
    "               dropout_rate = 0.5,\n",
    "               num_of_neurons_LSTM = 100,\n",
    "               num_of_neurons_Dense1 = 100,\n",
    "               num_of_neurons_Dense2 = 100,\n",
    "               num_of_neurons_Dense3 = None,\n",
    "               l2_constant = 0.001,\n",
    "               epochs = 170,\n",
    "               batch_size = 512,\n",
    "               predict_window=12)"
   ]
  },
  {
   "cell_type": "code",
   "execution_count": 0,
   "metadata": {
    "colab": {},
    "colab_type": "code",
    "id": "g96p2EFtz_Bb"
   },
   "outputs": [],
   "source": []
  }
 ],
 "metadata": {
  "accelerator": "GPU",
  "colab": {
   "collapsed_sections": [],
   "name": "main.ipynb",
   "provenance": [],
   "toc_visible": true
  },
  "kernelspec": {
   "display_name": "Python 3",
   "language": "python",
   "name": "python3"
  },
  "language_info": {
   "codemirror_mode": {
    "name": "ipython",
    "version": 3
   },
   "file_extension": ".py",
   "mimetype": "text/x-python",
   "name": "python",
   "nbconvert_exporter": "python",
   "pygments_lexer": "ipython3",
   "version": "3.7.4"
  }
 },
 "nbformat": 4,
 "nbformat_minor": 1
}
